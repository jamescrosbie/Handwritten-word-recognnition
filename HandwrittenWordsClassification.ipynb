{
 "cells": [
  {
   "cell_type": "markdown",
   "metadata": {},
   "source": [
    "# Analysis of Handwritten Words"
   ]
  },
  {
   "cell_type": "markdown",
   "metadata": {},
   "source": [
    "## Imports"
   ]
  },
  {
   "cell_type": "code",
   "execution_count": 1,
   "metadata": {},
   "outputs": [
    {
     "name": "stderr",
     "output_type": "stream",
     "text": [
      "Using TensorFlow backend.\n"
     ]
    }
   ],
   "source": [
    "import numpy as np\n",
    "import matplotlib.pyplot as plt\n",
    "import matplotlib.image as mpimg\n",
    "import os\n",
    "\n",
    "import keras\n",
    "\n",
    "%matplotlib inline"
   ]
  },
  {
   "cell_type": "markdown",
   "metadata": {},
   "source": [
    "## Get image path"
   ]
  },
  {
   "cell_type": "code",
   "execution_count": 40,
   "metadata": {},
   "outputs": [],
   "source": [
    "# dictionary of filename : [path, word]\n",
    "images = {}\n",
    "\n",
    "for root,dirs,files in os.walk(\"./data\"):\n",
    "    if not dirs:\n",
    "        for file in files:\n",
    "            filename = os.path.join(root, file)\n",
    "            images[file] = [filename , \"\"]"
   ]
  },
  {
   "cell_type": "markdown",
   "metadata": {},
   "source": [
    "## Get mapping\n",
    "Actual word associated with the image"
   ]
  },
  {
   "cell_type": "code",
   "execution_count": 52,
   "metadata": {},
   "outputs": [],
   "source": [
    "with open(\"./words.txt\") as f:\n",
    "    lines = f.read().split(\"\\n\")\n",
    "    \n",
    "    #first 18 lines are description\n",
    "    for line in lines[18:-1]:\n",
    "        elements = line.split(\" \")\n",
    "        name = str(elements[0]) + \".png\"\n",
    "        images[name][1] = elements[-1]"
   ]
  },
  {
   "cell_type": "markdown",
   "metadata": {},
   "source": [
    "## Display random image from set"
   ]
  },
  {
   "cell_type": "code",
   "execution_count": 93,
   "metadata": {},
   "outputs": [
    {
     "data": {
      "text/plain": [
       "<matplotlib.image.AxesImage at 0x7f7180da0710>"
      ]
     },
     "execution_count": 93,
     "metadata": {},
     "output_type": "execute_result"
    },
    {
     "data": {
      "image/png": "[encoded data removed]",
      "text/plain": [
       "<matplotlib.figure.Figure at 0x7f7186bafd30>"
      ]
     },
     "metadata": {},
     "output_type": "display_data"
    }
   ],
   "source": [
    "rand = np.random.choice(len(images))\n",
    "randomImage = list(images)[rand]\n",
    "\n",
    "img = mpimg.imread(images[randomImage][0])\n",
    "plt.imshow(img, cmap=\"gray\")"
   ]
  },
  {
   "cell_type": "code",
   "execution_count": 94,
   "metadata": {},
   "outputs": [
    {
     "data": {
      "text/plain": [
       "'much'"
      ]
     },
     "execution_count": 94,
     "metadata": {},
     "output_type": "execute_result"
    }
   ],
   "source": [
    "myword = images[randomImage][1]\n",
    "myword"
   ]
  },
  {
   "cell_type": "markdown",
   "metadata": {},
   "source": [
    "## Characteristics of image"
   ]
  },
  {
   "cell_type": "code",
   "execution_count": 95,
   "metadata": {},
   "outputs": [
    {
     "data": {
      "text/plain": [
       "('g04-092-00-07.png', ['./data/g04/g04-092/g04-092-00-07.png', 'much'])"
      ]
     },
     "execution_count": 95,
     "metadata": {},
     "output_type": "execute_result"
    }
   ],
   "source": [
    "list(images.items())[rand]"
   ]
  },
  {
   "cell_type": "code",
   "execution_count": 96,
   "metadata": {
    "collapsed": true
   },
   "outputs": [],
   "source": [
    "data = np.asarray( img, dtype=\"float32\" )\n",
    "d = data.shape"
   ]
  },
  {
   "cell_type": "code",
   "execution_count": 97,
   "metadata": {},
   "outputs": [
    {
     "data": {
      "text/plain": [
       "(58, 162)"
      ]
     },
     "execution_count": 97,
     "metadata": {},
     "output_type": "execute_result"
    }
   ],
   "source": [
    "d"
   ]
  },
  {
   "cell_type": "code",
   "execution_count": 70,
   "metadata": {},
   "outputs": [
    {
     "data": {
      "text/plain": [
       "array([[ 0.89411765,  1.        ,  1.        , ...,  1.        ,\n",
       "         1.        ,  1.        ],\n",
       "       [ 0.89411765,  1.        ,  1.        , ...,  1.        ,\n",
       "         1.        ,  1.        ],\n",
       "       [ 1.        ,  1.        ,  1.        , ...,  1.        ,\n",
       "         1.        ,  1.        ],\n",
       "       ..., \n",
       "       [ 0.67843139,  0.29803923,  0.24705882, ...,  1.        ,\n",
       "         1.        ,  1.        ],\n",
       "       [ 0.75294119,  0.39215687,  0.3882353 , ...,  1.        ,\n",
       "         1.        ,  1.        ],\n",
       "       [ 0.87058824,  0.75294119,  0.60000002, ...,  1.        ,\n",
       "         1.        ,  1.        ]], dtype=float32)"
      ]
     },
     "execution_count": 70,
     "metadata": {},
     "output_type": "execute_result"
    }
   ],
   "source": [
    "data"
   ]
  },
  {
   "cell_type": "code",
   "execution_count": 98,
   "metadata": {},
   "outputs": [
    {
     "data": {
      "text/plain": [
       "7931"
      ]
     },
     "execution_count": 98,
     "metadata": {},
     "output_type": "execute_result"
    }
   ],
   "source": [
    "wordlist = []\n",
    "for w in list(images.items()):\n",
    "    wordlist.append(w[1][1])\n",
    "wordlist = list(set(wordlist))\n",
    "\n",
    "wordlist.index(myword)"
   ]
  },
  {
   "cell_type": "code",
   "execution_count": 100,
   "metadata": {},
   "outputs": [
    {
     "data": {
      "text/plain": [
       "'much'"
      ]
     },
     "execution_count": 100,
     "metadata": {},
     "output_type": "execute_result"
    }
   ],
   "source": [
    "wordlist[wordlist.index(myword)]"
   ]
  },
  {
   "cell_type": "code",
   "execution_count": 227,
   "metadata": {},
   "outputs": [],
   "source": [
    "class Words():\n",
    "    \n",
    "    wordCount = 0\n",
    "    maxSize = [0, 0]\n",
    "    \n",
    "    def __init__(self, name, path, word, wordIndex, size, data):\n",
    "            self.name = name\n",
    "            self.path = path\n",
    "            self.word = word\n",
    "            self.wordIndex = wordIndex\n",
    "            self.original_size = size\n",
    "            self.size = list(size)\n",
    "            self.data = data\n",
    "            \n",
    "            Words.wordCount += 1\n",
    "            \n",
    "            if self.size[0] > Words.maxSize[0]:\n",
    "                Words.maxSize[0] = self.size[0]\n",
    "            if self.size[1] > Words.maxSize[1]:\n",
    "                Words.maxSize[1] = self.size[1]\n",
    "\n",
    "\n",
    "    def resize(self, new_size=maxSize):\n",
    "        \n",
    "        noOfCols =  new_size[1] - self.size[1]\n",
    "        #Adding cols at the beginning \n",
    "        self.data = np.c_[ np.ones( (self.size[0],noOfCols//2) ), self.data ]\n",
    "        #Adding remaining cols at the end\n",
    "        self.data = np.c_[ self.data, np.ones( (self.size[0], noOfCols - noOfCols//2) ) ]\n",
    "        self.size[1] = new_size[1]\n",
    "        \n",
    "        noOfRows = new_size[0] - self.size[0]\n",
    "        #Adding rows at the beginning \n",
    "        self.data = np.r_[ np.ones( (noOfRows//2, self.size[1]) ), self.data ]\n",
    "        #Adding remaining rows at the end\n",
    "        self.data = np.r_[ self.data, np.ones( (noOfRows - noOfRows//2, self.size[1]) ) ]\n",
    "        self.size[0] = new_size[0]"
   ]
  },
  {
   "cell_type": "code",
   "execution_count": 228,
   "metadata": {},
   "outputs": [],
   "source": [
    "myWord = Words(name = \"g04-092-00-07.png\", \n",
    "               path=\"./data/g04/g04-092/\", \n",
    "               word=\"much\", wordIndex=7931, size=data.shape, data=data)"
   ]
  },
  {
   "cell_type": "code",
   "execution_count": 229,
   "metadata": {},
   "outputs": [
    {
     "data": {
      "text/plain": [
       "[58, 162]"
      ]
     },
     "execution_count": 229,
     "metadata": {},
     "output_type": "execute_result"
    }
   ],
   "source": [
    "myWord.size"
   ]
  },
  {
   "cell_type": "code",
   "execution_count": 230,
   "metadata": {},
   "outputs": [],
   "source": [
    "myWord.resize([60,170])"
   ]
  },
  {
   "cell_type": "code",
   "execution_count": 231,
   "metadata": {},
   "outputs": [
    {
     "data": {
      "text/plain": [
       "[60, 170]"
      ]
     },
     "execution_count": 231,
     "metadata": {},
     "output_type": "execute_result"
    }
   ],
   "source": [
    "myWord.size"
   ]
  },
  {
   "cell_type": "code",
   "execution_count": 232,
   "metadata": {},
   "outputs": [
    {
     "data": {
      "image/png": "[encoded data removed]",
      "text/plain": [
       "<matplotlib.figure.Figure at 0x7f7182e5e908>"
      ]
     },
     "metadata": {},
     "output_type": "display_data"
    }
   ],
   "source": [
    "plt.imshow(myWord.data, cmap=\"gray\")\n",
    "plt.show()"
   ]
  },
  {
   "cell_type": "code",
   "execution_count": null,
   "metadata": {
    "collapsed": true
   },
   "outputs": [],
   "source": []
  }
 ],
 "metadata": {
  "kernelspec": {
   "display_name": "Python 3",
   "language": "python",
   "name": "python3"
  },
  "language_info": {
   "codemirror_mode": {
    "name": "ipython",
    "version": 3
   },
   "file_extension": ".py",
   "mimetype": "text/x-python",
   "name": "python",
   "nbconvert_exporter": "python",
   "pygments_lexer": "ipython3",
   "version": "3.5.3"
  }
 },
 "nbformat": 4,
 "nbformat_minor": 2
}
