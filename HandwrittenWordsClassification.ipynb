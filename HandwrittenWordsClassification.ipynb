{
 "cells": [
  {
   "cell_type": "markdown",
   "metadata": {},
   "source": [
    "# Analysis of Handwritten Words\n",
    "\n",
    "In this project we are going to import images of handwritten words from the [IAM Handwriting Database](http://www.fki.inf.unibe.ch/databases/iam-handwriting-database) and then use a Convolutional Neural Network to classify the image in Keras."
   ]
  },
  {
   "cell_type": "markdown",
   "metadata": {},
   "source": [
    "## Imports"
   ]
  },
  {
   "cell_type": "code",
   "execution_count": 1,
   "metadata": {
    "collapsed": true
   },
   "outputs": [],
   "source": [
    "import numpy as np\n",
    "import matplotlib.pyplot as plt\n",
    "import matplotlib.image as mpimg\n",
    "import os\n",
    "\n",
    "# import keras\n",
    "# from keras.utils.np_utils import to_categorical\n",
    "\n",
    "# from keras.models import Sequential\n",
    "# from keras.layers import Dense, MaxPool2D, Conv2D, Flatten, Activation\n",
    "# import keras.backend as K\n",
    "\n",
    "%matplotlib inline"
   ]
  },
  {
   "cell_type": "markdown",
   "metadata": {},
   "source": [
    "## Get image path of the images"
   ]
  },
  {
   "cell_type": "code",
   "execution_count": 2,
   "metadata": {
    "collapsed": true
   },
   "outputs": [],
   "source": [
    "# dictionary of filename : [path, word]\n",
    "images = {}\n",
    "\n",
    "for root,dirs,files in os.walk(\"./data\"):\n",
    "    if not dirs:\n",
    "        for file in files:\n",
    "            images[file] = [root , \"\"]"
   ]
  },
  {
   "cell_type": "code",
   "execution_count": 3,
   "metadata": {
    "collapsed": true
   },
   "outputs": [],
   "source": [
    "# To make matters easier I'm going to set the random variable I use to:\n",
    "rand = np.random.choice(len(images))\n",
    "rand = 0"
   ]
  },
  {
   "cell_type": "markdown",
   "metadata": {},
   "source": [
    "## Get mapping of the image to the word\n",
    "Actual word associated with the image from the words.txt file downloaded from the IAM database"
   ]
  },
  {
   "cell_type": "code",
   "execution_count": 4,
   "metadata": {
    "collapsed": true
   },
   "outputs": [],
   "source": [
    "with open(\"./words.txt\") as f:\n",
    "    lines = f.read().split(\"\\n\")\n",
    "    \n",
    "    #first 18 lines are description\n",
    "    for line in lines[18:-1]:\n",
    "        elements = line.split(\" \")\n",
    "        name = str(elements[0]) + \".png\"\n",
    "        images[name][1] = elements[-1]"
   ]
  },
  {
   "cell_type": "markdown",
   "metadata": {},
   "source": [
    "## Display random image from set"
   ]
  },
  {
   "cell_type": "code",
   "execution_count": 5,
   "metadata": {},
   "outputs": [
    {
     "data": {
      "text/plain": [
       "<matplotlib.image.AxesImage at 0x7fd8bb375da0>"
      ]
     },
     "execution_count": 5,
     "metadata": {},
     "output_type": "execute_result"
    },
    {
     "data": {
      "image/png": "[encoded data removed]",
      "text/plain": [
       "<matplotlib.figure.Figure at 0x7fd8bd407a90>"
      ]
     },
     "metadata": {},
     "output_type": "display_data"
    }
   ],
   "source": [
    "randomImage = list(images)[rand]\n",
    "filename = os.path.join(images[randomImage][0], randomImage)\n",
    "\n",
    "img = mpimg.imread(filename)\n",
    "plt.imshow(img, cmap=\"gray\")"
   ]
  },
  {
   "cell_type": "code",
   "execution_count": 6,
   "metadata": {},
   "outputs": [
    {
     "data": {
      "text/plain": [
       "','"
      ]
     },
     "execution_count": 6,
     "metadata": {},
     "output_type": "execute_result"
    }
   ],
   "source": [
    "#check we've got the right word for this image\n",
    "myword = images[randomImage][1]\n",
    "myword"
   ]
  },
  {
   "cell_type": "markdown",
   "metadata": {},
   "source": [
    "## Characteristics of image\n",
    "\n",
    "In order to build the classifier there are various attributes associated with the image that we will need to know:  \n",
    "* the actual word of the image, which we will then map to a categorical variable\n",
    "* the size of the image, so words are longer than others so will take up more space.  However, our NN will take a specific dimension as its inputs therefore we will need to resize each image to this maximum size.  I will not stretch and distort the image using PILLOW, but add no-information padding around the original image to build up its size"
   ]
  },
  {
   "cell_type": "code",
   "execution_count": 7,
   "metadata": {},
   "outputs": [
    {
     "data": {
      "text/plain": [
       "('m02-055-01-02.png', ['./data/m02/m02-055', ','])"
      ]
     },
     "execution_count": 7,
     "metadata": {},
     "output_type": "execute_result"
    }
   ],
   "source": [
    "# Here we have the dictiionary of images we created with its full (filename) name, its path and the true word \n",
    "# associated with the image \n",
    "list(images.items())[rand]"
   ]
  },
  {
   "cell_type": "code",
   "execution_count": 8,
   "metadata": {},
   "outputs": [
    {
     "name": "stdout",
     "output_type": "stream",
     "text": [
      "The image has dimensions: (40, 12)\n",
      "The image as a numpy array:\n",
      " [[ 0.98431373  0.98039216  0.95686275  0.86666667  0.69411767]\n",
      " [ 0.98039216  0.95686275  0.80000001  0.60000002  0.60000002]\n",
      " [ 0.97647059  0.95686275  0.75294119  0.54901963  0.63529414]\n",
      " [ 0.95686275  0.95686275  0.80000001  0.63921571  0.60000002]\n",
      " [ 0.95686275  0.90588236  0.60000002  0.50196081  0.40000001]]\n"
     ]
    }
   ],
   "source": [
    "# Here we have the image converted to a numpy array - something Keras can read and the dimension of the image\n",
    "data = np.asarray( img, dtype=\"float32\" )\n",
    "\n",
    "print(\"The image has dimensions: {}\".format(data.shape))\n",
    "print(\"The image as a numpy array:\\n {}\".format(data[:5,:5]))"
   ]
  },
  {
   "cell_type": "markdown",
   "metadata": {},
   "source": [
    "Next we need to convert all the words into a single list - so we know how unique many words we have and their position in the list - which we will use to identify the word when its a categorical variable"
   ]
  },
  {
   "cell_type": "code",
   "execution_count": 9,
   "metadata": {},
   "outputs": [
    {
     "name": "stdout",
     "output_type": "stream",
     "text": [
      "My random word ',' chosen above is at postion 5378 in the wordlist\n"
     ]
    }
   ],
   "source": [
    "wordlist = []\n",
    "for w in list(images.items()):\n",
    "    wordlist.append(w[1][1])\n",
    "wordlist = list(set(wordlist))\n",
    "\n",
    "print(\"My random word '{}' chosen above is at postion {} in the wordlist\"\\\n",
    "      .format(wordlist[wordlist.index(myword)], wordlist.index(myword)))"
   ]
  },
  {
   "cell_type": "code",
   "execution_count": null,
   "metadata": {
    "collapsed": true
   },
   "outputs": [],
   "source": []
  },
  {
   "cell_type": "markdown",
   "metadata": {},
   "source": [
    "## Words class\n",
    "\n",
    "I'm going make a Class to handle each word since each they have identical associated properties e.g. size.  \n",
    "\n",
    "The Words class below keeps track of the number of words added to the class (wordCount), and the size of the word with biggest dimensions (maxSize).  This later variable will be used to resize the images later "
   ]
  },
  {
   "cell_type": "code",
   "execution_count": 27,
   "metadata": {
    "collapsed": true
   },
   "outputs": [],
   "source": [
    "class Words():\n",
    "    \n",
    "    import numpy as np\n",
    "    \n",
    "    wordCount = 0\n",
    "    maxSize = [0, 0]\n",
    "    \n",
    "    def __init__(self, name, path, word, wordIndex, size, data):\n",
    "            self.name = name\n",
    "            self.path = path\n",
    "            self.word = word\n",
    "            self.wordIndex = wordIndex\n",
    "            self.original_size = size\n",
    "            self.size = list(size)\n",
    "            self.data = data\n",
    "            self.flattern = []\n",
    "            \n",
    "            Words.wordCount += 1\n",
    "            \n",
    "            if self.size[0] > Words.maxSize[0]:\n",
    "                Words.maxSize[0] = self.size[0]\n",
    "            if self.size[1] > Words.maxSize[1]:\n",
    "                Words.maxSize[1] = self.size[1]\n",
    "\n",
    "\n",
    "    def resize(self, new_size=maxSize):\n",
    "        \n",
    "        if new_size[1] > self.size[1]:\n",
    "        \n",
    "            noOfCols =  new_size[1] - self.size[1]\n",
    "            #Adding cols at the beginning \n",
    "            self.data = np.c_[ np.ones( (self.size[0],noOfCols//2) ), self.data ]\n",
    "            #Adding remaining cols at the end\n",
    "            self.data = np.c_[ self.data, np.ones( (self.size[0], noOfCols - noOfCols//2) ) ]\n",
    "            self.size[1] = new_size[1]\n",
    "           \n",
    "        if new_size[0] > self.size[0] :\n",
    "            noOfRows = new_size[0] - self.size[0]\n",
    "            #Adding rows at the beginning \n",
    "            self.data = np.r_[ np.ones( (noOfRows//2, self.size[1]) ), self.data ]\n",
    "            #Adding remaining rows at the end\n",
    "            self.data = np.r_[ self.data, np.ones( (noOfRows - noOfRows//2, self.size[1]) ) ]\n",
    "            self.size[0] = new_size[0]\n",
    "\n",
    "            \n",
    "    def reset_size(self):\n",
    "        noOfCols =  self.size[1] - self.original_size[1]\n",
    "        #Taking cols from the beginning \n",
    "        self.data = self.data[ : , noOfCols//2 +1 : ]\n",
    "        #Taking cols at the end\n",
    "        self.data = self.data[ : , : - noOfCols//2 ]\n",
    "        self.size[1] = self.original_size[1]\n",
    "\n",
    "        noOfRows = self.size[0] - self.original_size[0]\n",
    "        #Taking rows from the beginning \n",
    "        self.data = self.data[ noOfRows//2 +1 : , : ]\n",
    "        #Taking the remaining rows from the end\n",
    "        self.data = self.data[ : - noOfRows//2 , :]\n",
    "        self.size[0] = self.original_size[0]\n"
   ]
  },
  {
   "cell_type": "markdown",
   "metadata": {},
   "source": [
    "### Checking the class works  \n",
    "\n",
    "Read in the image, test its properties.  Resize the image, then reset the image"
   ]
  },
  {
   "cell_type": "code",
   "execution_count": 11,
   "metadata": {
    "collapsed": true
   },
   "outputs": [],
   "source": [
    "#Enter a word to the class - I know this image relates to the word \"very\"\n",
    "myWord = Words(name = list(images)[rand], \n",
    "               path=images[list(images)[rand]][0], \n",
    "               word=myword, \n",
    "               wordIndex=wordlist.index(myword),\n",
    "               size=data.shape,\n",
    "               data=data)"
   ]
  },
  {
   "cell_type": "code",
   "execution_count": 12,
   "metadata": {},
   "outputs": [
    {
     "data": {
      "image/png": "[encoded data removed]",
      "text/plain": [
       "<matplotlib.figure.Figure at 0x7fd8bb326518>"
      ]
     },
     "metadata": {},
     "output_type": "display_data"
    }
   ],
   "source": [
    "fig, ax = plt.subplots(1,3, figsize=(17,17))\n",
    "\n",
    "#original size\n",
    "ax[0].imshow(myWord.data, cmap=\"gray\")\n",
    "\n",
    "#resized\n",
    "myWord.resize([160, 250])\n",
    "ax[1].imshow(myWord.data, cmap=\"gray\")\n",
    "\n",
    "#reset\n",
    "myWord.reset_size()\n",
    "ax[2].imshow(img, cmap=\"gray\")\n",
    "\n",
    "plt.show()"
   ]
  },
  {
   "cell_type": "code",
   "execution_count": null,
   "metadata": {
    "collapsed": true
   },
   "outputs": [],
   "source": []
  },
  {
   "cell_type": "code",
   "execution_count": 13,
   "metadata": {
    "collapsed": true
   },
   "outputs": [],
   "source": [
    "# Build the word objects"
   ]
  },
  {
   "cell_type": "code",
   "execution_count": 28,
   "metadata": {},
   "outputs": [],
   "source": [
    "objs = list()\n",
    "\n",
    "myWords = list(images)[:10]\n",
    "\n",
    "for word in myWords:\n",
    "    filename = os.path.join(images[word][0], word)\n",
    "    img = mpimg.imread(filename)\n",
    "    \n",
    "    objs.append(Words(name = images[word],  \n",
    "                       path = images[word][0], \n",
    "                       word = images[word][1], \n",
    "                       wordIndex = wordlist.index(images[word][1]),\n",
    "                       size = img.shape, \n",
    "                       data = np.asarray( img, dtype=\"float32\" )\n",
    "                      )\n",
    "               )\n",
    "for obj in objs:\n",
    "    obj.resize()"
   ]
  },
  {
   "cell_type": "code",
   "execution_count": 29,
   "metadata": {},
   "outputs": [
    {
     "data": {
      "text/plain": [
       "[76, 248]"
      ]
     },
     "execution_count": 29,
     "metadata": {},
     "output_type": "execute_result"
    }
   ],
   "source": [
    "plt.imshow(\"./data/a05/a05-062\", cmap=\"gray\")\n",
    "\n",
    "plt.show()"
   ]
  },
  {
   "cell_type": "code",
   "execution_count": 31,
   "metadata": {},
   "outputs": [
    {
     "name": "stdout",
     "output_type": "stream",
     "text": [
      "['./data/m02/m02-055', ','] [76, 248]\n",
      "['./data/a05/a05-062', 'and'] [76, 248]\n",
      "['./data/m03/m03-006', '.'] [76, 248]\n",
      "['./data/n04/n04-084', 'meet'] [76, 248]\n",
      "['./data/a02/a02-037', '.'] [76, 248]\n",
      "['./data/a04/a04-006', 'him'] [76, 248]\n",
      "['./data/g04/g04-104', 'this'] [76, 248]\n",
      "['./data/g06/g06-018f', '.'] [76, 248]\n",
      "['./data/f07/f07-028a', 'confine'] [76, 248]\n",
      "['./data/a02/a02-053', 'left'] [76, 248]\n"
     ]
    }
   ],
   "source": []
  },
  {
   "cell_type": "code",
   "execution_count": null,
   "metadata": {
    "collapsed": true
   },
   "outputs": [],
   "source": [
    "# Train test split\n",
    "from sklearn.model_selection import train_test_split\n",
    "\n",
    "X_train, X_test, y_train, y_test = train_test_split(X, y_cat, test_size=0.33, random_state=42)"
   ]
  },
  {
   "cell_type": "code",
   "execution_count": null,
   "metadata": {
    "collapsed": true
   },
   "outputs": [],
   "source": [
    "# Read in all the data into an array\n",
    "\n",
    "X = np.empty((Words.maxSize[0], Words.maxSize[1]), dtype=float)\n",
    "y = np.empty((Words.maxSize[0],1), dtype=int)\n",
    "\n",
    "\n",
    "for obj in wordCollection:\n",
    "    X[obj,:] = obj.data.flattern()\n",
    "    y[obj,:] = obj.wordIndex\n",
    "\n",
    "    \n",
    "y_cat = to_categorical(y, len(wordsList))"
   ]
  },
  {
   "cell_type": "code",
   "execution_count": null,
   "metadata": {
    "collapsed": true
   },
   "outputs": [],
   "source": []
  },
  {
   "cell_type": "code",
   "execution_count": null,
   "metadata": {
    "collapsed": true
   },
   "outputs": [],
   "source": []
  },
  {
   "cell_type": "markdown",
   "metadata": {
    "collapsed": true
   },
   "source": [
    "## Modelling"
   ]
  },
  {
   "cell_type": "code",
   "execution_count": null,
   "metadata": {
    "collapsed": true
   },
   "outputs": [],
   "source": [
    "## Model parameters\n",
    "\n",
    "window_size = (12,12)\n",
    "pool_size = (4,4)"
   ]
  },
  {
   "cell_type": "code",
   "execution_count": null,
   "metadata": {
    "collapsed": true
   },
   "outputs": [],
   "source": [
    "K.clear_session()\n",
    "\n",
    "model = Sequential()\n",
    "\n",
    "model.add(Conv2D(32, window_size, activation='relu', padding='same', input_shape=X_train.shape[1:]))\n",
    "model.add(Conv2D(32, window_size, activation='relu'))\n",
    "model.add(MaxPool2D(pool_size=pool_size))\n",
    "\n",
    "model.add(Conv2D(64, window_size, activation='relu', padding='same'))\n",
    "model.add(Conv2D(64, window_size, activation='relu'))\n",
    "model.add(MaxPool2D(pool_size=pool_size))\n",
    "\n",
    "model.add(Flatten())\n",
    "model.add(Dense(512, activation='relu'))\n",
    "model.add(Dense(shape.y_cat[1], activation='softmax'))\n",
    "\n",
    "model.compile(loss='categorical_crossentropy', optimizer='rmsprop', metrics=['accuracy'])"
   ]
  },
  {
   "cell_type": "code",
   "execution_count": null,
   "metadata": {
    "collapsed": true
   },
   "outputs": [],
   "source": [
    "model.summary()"
   ]
  },
  {
   "cell_type": "code",
   "execution_count": null,
   "metadata": {
    "collapsed": true
   },
   "outputs": [],
   "source": [
    "model.fit(X_train, y_train_cat, batch_size=batch_size, epochs=1, \n",
    "          validation_data=(X_test,y_test_cat), verbose=1,\n",
    "          shuffle=True)\n",
    "\n",
    "model.save('./model.h5')"
   ]
  },
  {
   "cell_type": "markdown",
   "metadata": {},
   "source": [
    "### Assess the model"
   ]
  },
  {
   "cell_type": "code",
   "execution_count": null,
   "metadata": {
    "collapsed": true
   },
   "outputs": [],
   "source": [
    "model = load_model('./model.h5')\n",
    "# make predictions\n",
    "yhat = model.predict(X_test, verbose=0)\n",
    "print(yhat)"
   ]
  },
  {
   "cell_type": "code",
   "execution_count": null,
   "metadata": {
    "collapsed": true
   },
   "outputs": [],
   "source": []
  },
  {
   "cell_type": "code",
   "execution_count": null,
   "metadata": {
    "collapsed": true
   },
   "outputs": [],
   "source": []
  },
  {
   "cell_type": "code",
   "execution_count": null,
   "metadata": {
    "collapsed": true
   },
   "outputs": [],
   "source": []
  },
  {
   "cell_type": "code",
   "execution_count": null,
   "metadata": {
    "collapsed": true
   },
   "outputs": [],
   "source": []
  },
  {
   "cell_type": "code",
   "execution_count": null,
   "metadata": {
    "collapsed": true
   },
   "outputs": [],
   "source": [
    "import numpy as np"
   ]
  },
  {
   "cell_type": "code",
   "execution_count": null,
   "metadata": {},
   "outputs": [],
   "source": [
    "a = np.array([[1,2,3,4],[5,6,7,8]])\n",
    "a.flatten()"
   ]
  },
  {
   "cell_type": "code",
   "execution_count": null,
   "metadata": {
    "collapsed": true
   },
   "outputs": [],
   "source": []
  },
  {
   "cell_type": "code",
   "execution_count": null,
   "metadata": {
    "collapsed": true
   },
   "outputs": [],
   "source": []
  },
  {
   "cell_type": "code",
   "execution_count": null,
   "metadata": {
    "collapsed": true
   },
   "outputs": [],
   "source": []
  },
  {
   "cell_type": "code",
   "execution_count": null,
   "metadata": {
    "collapsed": true
   },
   "outputs": [],
   "source": []
  },
  {
   "cell_type": "code",
   "execution_count": null,
   "metadata": {
    "collapsed": true
   },
   "outputs": [],
   "source": []
  }
 ],
 "metadata": {
  "kernelspec": {
   "display_name": "Python 3",
   "language": "python",
   "name": "python3"
  },
  "language_info": {
   "codemirror_mode": {
    "name": "ipython",
    "version": 3
   },
   "file_extension": ".py",
   "mimetype": "text/x-python",
   "name": "python",
   "nbconvert_exporter": "python",
   "pygments_lexer": "ipython3",
   "version": "3.5.3"
  }
 },
 "nbformat": 4,
 "nbformat_minor": 2
}
